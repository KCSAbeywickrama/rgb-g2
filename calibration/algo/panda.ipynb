{
 "metadata": {
  "language_info": {
   "codemirror_mode": {
    "name": "ipython",
    "version": 3
   },
   "file_extension": ".py",
   "mimetype": "text/x-python",
   "name": "python",
   "nbconvert_exporter": "python",
   "pygments_lexer": "ipython3",
   "version": "3.9.1"
  },
  "orig_nbformat": 2,
  "kernelspec": {
   "name": "python391jvsc74a57bd0bd4c67ef142469da7dc4d338a32ac40116904d26076b8e6aa587d80720bc6a2b",
   "display_name": "Python 3.9.1 64-bit"
  }
 },
 "nbformat": 4,
 "nbformat_minor": 2,
 "cells": [
  {
   "cell_type": "code",
   "execution_count": 5,
   "metadata": {},
   "outputs": [],
   "source": [
    "import numpy as np\n",
    "import pandas as pd\n",
    "data={\n",
    "    \"R\":np.array([1,2,3]),\n",
    "    \"r\":[5,6,7]\n",
    "}\n",
    "\n",
    "df=pd.DataFrame(data)\n",
    "\n",
    "print(df)"
   ]
  },
  {
   "cell_type": "code",
   "execution_count": 6,
   "metadata": {},
   "outputs": [],
   "source": [
    "with open(\"..\\data\\stage2\\dataset1.txt\") as fl:\n",
    "    calib_data=fl.read().split('\\n\\n')\n",
    "\n",
    "ex=np.array([tuple(map(int,line.split('\\n')[0].split(','))) for line in calib_data])\n",
    "rd=np.array([tuple(map(int,line.split('\\n')[1].split(','))) for line in calib_data])"
   ]
  },
  {
   "cell_type": "code",
   "execution_count": 14,
   "metadata": {},
   "outputs": [
    {
     "output_type": "stream",
     "name": "stdout",
     "text": [
      "      R    G    B    r    g    b\n0   255    0    0  660  131  125\n1     0  255    0  397  236  126\n2     0    0  255  303  161  214\n3     0    0    0  306  104   98\n4   127  127  127  480  197  170\n5   255  255  255  663  337  306\n6   255  255    0  670  339  125\n7     0  255  255  357  230  227\n8   255    0  255  635  129  178\n9   255  127    0  666  194  115\n10   50  150  220  332  209  259\n11  100   30  110  398  121  165\n"
     ]
    }
   ],
   "source": [
    "rows=12\n",
    "\n",
    "dic1={\n",
    "    \"R\":np.split(ex,3,1)[0].reshape(rows),\n",
    "    \"G\":np.split(ex,3,1)[1].reshape(rows),\n",
    "    \"B\":np.split(ex,3,1)[2].reshape(rows),\n",
    "\n",
    "    \"r\":np.split(rd,3,1)[0].reshape(rows),\n",
    "    \"g\":np.split(rd,3,1)[1].reshape(rows),\n",
    "    \"b\":np.split(rd,3,1)[2].reshape(rows)\n",
    "    }\n",
    "\n",
    "df1=pd.DataFrame(dic1)\n",
    "print(df1)\n"
   ]
  },
  {
   "cell_type": "code",
   "execution_count": 15,
   "metadata": {},
   "outputs": [
    {
     "output_type": "execute_result",
     "data": {
      "text/plain": [
       "          R         G         B         r         g         b\n",
       "R  1.000000  0.006933 -0.148373  0.973268  0.265019 -0.061115\n",
       "G  0.006933  1.000000  0.023908  0.146714  0.893279  0.307373\n",
       "B -0.148373  0.023908  1.000000 -0.219536  0.087442  0.871051\n",
       "r  0.973268  0.146714 -0.219536  1.000000  0.363451 -0.114532\n",
       "g  0.265019  0.893279  0.087442  0.363451  1.000000  0.394843\n",
       "b -0.061115  0.307373  0.871051 -0.114532  0.394843  1.000000"
      ],
      "text/html": "<div>\n<style scoped>\n    .dataframe tbody tr th:only-of-type {\n        vertical-align: middle;\n    }\n\n    .dataframe tbody tr th {\n        vertical-align: top;\n    }\n\n    .dataframe thead th {\n        text-align: right;\n    }\n</style>\n<table border=\"1\" class=\"dataframe\">\n  <thead>\n    <tr style=\"text-align: right;\">\n      <th></th>\n      <th>R</th>\n      <th>G</th>\n      <th>B</th>\n      <th>r</th>\n      <th>g</th>\n      <th>b</th>\n    </tr>\n  </thead>\n  <tbody>\n    <tr>\n      <th>R</th>\n      <td>1.000000</td>\n      <td>0.006933</td>\n      <td>-0.148373</td>\n      <td>0.973268</td>\n      <td>0.265019</td>\n      <td>-0.061115</td>\n    </tr>\n    <tr>\n      <th>G</th>\n      <td>0.006933</td>\n      <td>1.000000</td>\n      <td>0.023908</td>\n      <td>0.146714</td>\n      <td>0.893279</td>\n      <td>0.307373</td>\n    </tr>\n    <tr>\n      <th>B</th>\n      <td>-0.148373</td>\n      <td>0.023908</td>\n      <td>1.000000</td>\n      <td>-0.219536</td>\n      <td>0.087442</td>\n      <td>0.871051</td>\n    </tr>\n    <tr>\n      <th>r</th>\n      <td>0.973268</td>\n      <td>0.146714</td>\n      <td>-0.219536</td>\n      <td>1.000000</td>\n      <td>0.363451</td>\n      <td>-0.114532</td>\n    </tr>\n    <tr>\n      <th>g</th>\n      <td>0.265019</td>\n      <td>0.893279</td>\n      <td>0.087442</td>\n      <td>0.363451</td>\n      <td>1.000000</td>\n      <td>0.394843</td>\n    </tr>\n    <tr>\n      <th>b</th>\n      <td>-0.061115</td>\n      <td>0.307373</td>\n      <td>0.871051</td>\n      <td>-0.114532</td>\n      <td>0.394843</td>\n      <td>1.000000</td>\n    </tr>\n  </tbody>\n</table>\n</div>"
     },
     "metadata": {},
     "execution_count": 15
    }
   ],
   "source": [
    "dfR.corr()"
   ]
  },
  {
   "cell_type": "code",
   "execution_count": 20,
   "metadata": {},
   "outputs": [],
   "source": [
    "with open(\"..\\data\\stage2\\dataset2.txt\") as fl:\n",
    "    calib_data2=fl.read().split('\\n\\n')\n",
    "\n",
    "ex2=np.array([tuple(map(int,line.split('\\n')[0].split(','))) for line in calib_data2])\n",
    "rd2=np.array([tuple(map(int,line.split('\\n')[1].split(','))) for line in calib_data2])\n",
    "\n"
   ]
  },
  {
   "cell_type": "code",
   "execution_count": 24,
   "metadata": {},
   "outputs": [
    {
     "output_type": "stream",
     "name": "stdout",
     "text": [
      "      R    G    B    r    g    b\n0   204    0    0  579  113  111\n1   153    0    0  506  111  103\n2   102    0    0  414  104   98\n3    51    0    0  354   93   92\n4   255  127    0  658  180  108\n5   204  102    0  590  149  100\n6   153   77    0  513  130   97\n7   102   52    0  430  115  100\n8    51   27    0  357  105   92\n9   255  255    0  661  326  121\n10  204  204    0  623  293  118\n11  153  153    0  528  220  104\n12  102  102    0  420  152   95\n13   51   51    0  333  115   90\n14    0  204    0  367  223  120\n15    0  153    0  360  212  116\n16    0  102    0  341  178  112\n17    0   51    0  310  124  101\n18    0    0  204  297  138  186\n19    0    0  153  295  127  153\n20    0    0  102  294  112  122\n21    0    0   51  293  103  101\n22   75    0  130  325  129  182\n23   60    0  104  323  120  164\n24   45    0   78  304  110  128\n25   30    0   52  302  106  112\n26   15    0   26  308  104  104\n27  148    0  211  401  136  189\n28  118    0  169  390  133  189\n29   88    0  127  351  119  176\n30   58    0   85  321  117  145\n31   28    0   43  305  104  104\n32  204  204  204  611  286  262\n33  153  153  153  528  216  194\n34  102  102  102  414  144  129\n35   51   51   51  334  109  100\n"
     ]
    }
   ],
   "source": [
    "rows=36\n",
    "ex=ex2\n",
    "rd=rd2\n",
    "\n",
    "dic={\n",
    "    \"R\":np.split(ex,3,1)[0].reshape(rows),\n",
    "    \"G\":np.split(ex,3,1)[1].reshape(rows),\n",
    "    \"B\":np.split(ex,3,1)[2].reshape(rows),\n",
    "\n",
    "    \"r\":np.split(rd,3,1)[0].reshape(rows),\n",
    "    \"g\":np.split(rd,3,1)[1].reshape(rows),\n",
    "    \"b\":np.split(rd,3,1)[2].reshape(rows)\n",
    "    }\n",
    "\n",
    "\n",
    "df=pd.DataFrame(dic)\n",
    "print(df)"
   ]
  },
  {
   "cell_type": "code",
   "execution_count": 25,
   "metadata": {},
   "outputs": [
    {
     "output_type": "execute_result",
     "data": {
      "text/plain": [
       "          R         G         B         r         g         b\n",
       "R  1.000000  0.472061 -0.075526  0.944509  0.510087  0.147727\n",
       "G  0.472061  1.000000 -0.239060  0.664886  0.927059  0.056620\n",
       "B -0.075526 -0.239060  1.000000 -0.217783 -0.010980  0.895799\n",
       "r  0.944509  0.664886 -0.217783  1.000000  0.663094  0.058593\n",
       "g  0.510087  0.927059 -0.010980  0.663094  1.000000  0.295901\n",
       "b  0.147727  0.056620  0.895799  0.058593  0.295901  1.000000"
      ],
      "text/html": "<div>\n<style scoped>\n    .dataframe tbody tr th:only-of-type {\n        vertical-align: middle;\n    }\n\n    .dataframe tbody tr th {\n        vertical-align: top;\n    }\n\n    .dataframe thead th {\n        text-align: right;\n    }\n</style>\n<table border=\"1\" class=\"dataframe\">\n  <thead>\n    <tr style=\"text-align: right;\">\n      <th></th>\n      <th>R</th>\n      <th>G</th>\n      <th>B</th>\n      <th>r</th>\n      <th>g</th>\n      <th>b</th>\n    </tr>\n  </thead>\n  <tbody>\n    <tr>\n      <th>R</th>\n      <td>1.000000</td>\n      <td>0.472061</td>\n      <td>-0.075526</td>\n      <td>0.944509</td>\n      <td>0.510087</td>\n      <td>0.147727</td>\n    </tr>\n    <tr>\n      <th>G</th>\n      <td>0.472061</td>\n      <td>1.000000</td>\n      <td>-0.239060</td>\n      <td>0.664886</td>\n      <td>0.927059</td>\n      <td>0.056620</td>\n    </tr>\n    <tr>\n      <th>B</th>\n      <td>-0.075526</td>\n      <td>-0.239060</td>\n      <td>1.000000</td>\n      <td>-0.217783</td>\n      <td>-0.010980</td>\n      <td>0.895799</td>\n    </tr>\n    <tr>\n      <th>r</th>\n      <td>0.944509</td>\n      <td>0.664886</td>\n      <td>-0.217783</td>\n      <td>1.000000</td>\n      <td>0.663094</td>\n      <td>0.058593</td>\n    </tr>\n    <tr>\n      <th>g</th>\n      <td>0.510087</td>\n      <td>0.927059</td>\n      <td>-0.010980</td>\n      <td>0.663094</td>\n      <td>1.000000</td>\n      <td>0.295901</td>\n    </tr>\n    <tr>\n      <th>b</th>\n      <td>0.147727</td>\n      <td>0.056620</td>\n      <td>0.895799</td>\n      <td>0.058593</td>\n      <td>0.295901</td>\n      <td>1.000000</td>\n    </tr>\n  </tbody>\n</table>\n</div>"
     },
     "metadata": {},
     "execution_count": 25
    }
   ],
   "source": [
    "df.corr()"
   ]
  }
 ]
}