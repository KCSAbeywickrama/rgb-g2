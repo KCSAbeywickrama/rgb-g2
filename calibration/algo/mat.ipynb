{
 "metadata": {
  "language_info": {
   "codemirror_mode": {
    "name": "ipython",
    "version": 3
   },
   "file_extension": ".py",
   "mimetype": "text/x-python",
   "name": "python",
   "nbconvert_exporter": "python",
   "pygments_lexer": "ipython3",
   "version": "3.9.1"
  },
  "orig_nbformat": 2,
  "kernelspec": {
   "name": "python391jvsc74a57bd0bd4c67ef142469da7dc4d338a32ac40116904d26076b8e6aa587d80720bc6a2b",
   "display_name": "Python 3.9.1 64-bit"
  }
 },
 "nbformat": 4,
 "nbformat_minor": 2,
 "cells": [
  {
   "cell_type": "code",
   "execution_count": 75,
   "metadata": {},
   "outputs": [],
   "source": [
    "import numpy as np\n",
    "\n",
    "with open(\"..\\data\\stage2\\calibset1.txt\") as fl:\n",
    "    calib_data=fl.read().split('\\n\\n')\n",
    "\n",
    "with open(\"..\\data\\stage2\\dataset2.txt\") as fl:\n",
    "    test_data=fl.read().split('\\n\\n')"
   ]
  },
  {
   "cell_type": "code",
   "execution_count": 76,
   "metadata": {},
   "outputs": [
    {
     "output_type": "stream",
     "name": "stdout",
     "text": [
      "[[255   0   0]\n [  0 255   0]\n [  0   0 255]\n [255 255 255]]\n[[660 131 125   1]\n [397 236 126   1]\n [303 161 214   1]\n [663 337 306   1]]\n[255, 0, 0]\n[0, 255, 0]\n[0, 0, 255]\n[255, 255, 255]\n"
     ]
    }
   ],
   "source": [
    "R,G,B,K,W=calib_data\n",
    "sel_calib_data=R,G,B,W\n",
    "ex=np.array([tuple(map(int,line.split('\\n')[0].split(','))) for line in sel_calib_data])\n",
    "rd=np.array([tuple(map(int,line.split('\\n')[1].split(',')))+(1,) for line in sel_calib_data])\n",
    "\n",
    "\n",
    "print(ex)\n",
    "# print()\n",
    "print(rd)\n",
    "ex_v=np.split(ex,3,1)\n",
    "\n",
    "# print(ex_v[0])\n",
    "\n",
    "coffs=[np.matmul(np.linalg.inv(rd),ex_v[i]) for i in range(3)]\n",
    "# print(coffs)\n",
    "\n",
    "for r in rd:    \n",
    "    print([round(np.matmul(r,coffs[i])[0]) for i in range(3)])\n",
    "\n"
   ]
  },
  {
   "cell_type": "code",
   "execution_count": 77,
   "metadata": {},
   "outputs": [
    {
     "output_type": "stream",
     "name": "stdout",
     "text": [
      "[204   0   0] [191, 0, 1] [13, 0, -1]\n[153   0   0] [130, 0, 3] [23, 0, -3]\n[102   0   0] [57, 0, 18] [45, 0, -18]\n[51  0  0] [11, 0, 27] [40, 0, -27]\n[255 127   0] [224, 127, 0] [31, 0, 0]\n[204 102   0] [179, 74, 0] [25, 28, 0]\n[153  77   0] [125, 42, 0] [28, 35, 0]\n[102  52   0] [66, 13, 12] [36, 39, -12]\n[51 27  0] [9, 6, 19] [42, 21, -19]\n[255 255   0] [169, 255, 0] [86, 0, 0]\n[204 204   0] [152, 255, 0] [52, -51, 0]\n[153 153   0] [101, 232, 0] [52, -79, 0]\n[102 102   0] [40, 101, 0] [62, 1, 0]\n[51 51  0] [0, 33, 14] [51, 18, -14]\n[  0 204   0] [0, 236, 2] [0, -32, -2]\n[  0 153   0] [0, 216, 3] [0, -63, -3]\n[  0 102   0] [0, 147, 20] [0, -45, -20]\n[ 0 51  0] [0, 43, 37] [0, 8, -37]\n[  0   0 204] [0, 0, 211] [0, 0, -7]\n[  0   0 153] [0, 0, 149] [0, 0, 4]\n[  0   0 102] [0, 0, 93] [0, 0, 9]\n[ 0  0 51] [0, 0, 54] [0, 0, -3]\n[ 75   0 130] [16, 0, 202] [59, 0, -72]\n[ 60   0 104] [10, 0, 170] [50, 0, -66]\n[45  0 78] [0, 0, 104] [45, 0, -26]\n[30  0 52] [0, 0, 73] [30, 0, -21]\n[15  0 26] [0, 0, 56] [15, 0, -30]\n[148   0 211] [77, 0, 194] [71, 0, 17]\n[118   0 169] [70, 0, 199] [48, 0, -30]\n[ 88   0 127] [38, 0, 189] [50, 0, -62]\n[58  0 85] [0, 0, 132] [58, 0, -47]\n[28  0 43] [0, 0, 57] [28, 0, -14]\n[204 204 204] [214, 196, 206] [-10, 8, -2]\n[153 153 153] [146, 124, 125] [7, 29, 28]\n[102 102 102] [55, 47, 59] [47, 55, 43]\n[51 51 51] [0, 8, 38] [51, 43, 13]\n"
     ]
    }
   ],
   "source": [
    "test_ex=np.array([tuple(map(int,line.split('\\n')[0].split(','))) for line in test_data])\n",
    "test_rd=np.array([tuple(map(int,line.split('\\n')[1].split(',')))+(1,) for line in test_data])\n",
    "\n",
    "\n",
    "def mat_delta(m1,m2):\n",
    "    delta=[]\n",
    "    for i in range(3):        \n",
    "        if m2[i]<0:m2[i]=0\n",
    "        elif m2[i]>255:m2[i]=255\n",
    "        delta.append(m1[i]-m2[i])\n",
    "\n",
    "    print(m1,m2,delta)\n",
    "    return delta\n",
    "\n",
    "for k in range(len(test_rd)):\n",
    "    calc=[round(np.matmul(test_rd[k],coffs[i])[0]) for i in range(3)]\n",
    "    mat_delta(test_ex[k],calc)\n",
    "    \n"
   ]
  },
  {
   "cell_type": "code",
   "execution_count": 3,
   "metadata": {},
   "outputs": [],
   "source": [
    "#Max/Min method\n",
    "import numpy as np\n",
    "\n",
    "with open(\"..\\data\\stage2\\calibset1.txt\") as fl:\n",
    "    calib_data=fl.read().split('\\n\\n')\n",
    "\n",
    "with open(\"..\\data\\stage2\\dataset2.txt\") as fl:\n",
    "    test_data=fl.read().split('\\n\\n')"
   ]
  },
  {
   "cell_type": "code",
   "execution_count": 5,
   "metadata": {},
   "outputs": [
    {
     "output_type": "stream",
     "name": "stdout",
     "text": [
      "[[255   0   0]\n [  0 255   0]\n [  0   0 255]\n [  0   0   0]\n [255 255 255]]\n[[660 131 125]\n [397 236 126]\n [303 161 214]\n [306 104  98]\n [663 337 306]]\n[(0.9695817490494296, -384.92395437262354), (3.4, -547.4), (2.897727272727273, -365.1136363636364)]\n"
     ]
    }
   ],
   "source": [
    "\n",
    "ex=np.array([tuple(map(int,line.split('\\n')[0].split(','))) for line in calib_data])\n",
    "rd=np.array([tuple(map(int,line.split('\\n')[1].split(','))) for line in calib_data])\n",
    "\n",
    "print(ex)\n",
    "print(rd)\n",
    "coffs=[]\n",
    "\n",
    "ex_h=ex[4][0]\n",
    "ex_l=ex[3][0]\n",
    "\n",
    "for i in range(3):\n",
    "    rd_h=rd[i][i]\n",
    "    rd_l=max(rd[(i+1)%3][i],rd[(i+2)%3][i])\n",
    "\n",
    "    m=(ex_h-ex_l)/(rd_h-rd_l)\n",
    "    c=-rd_l*m+ex_l\n",
    "\n",
    "    coffs.append((m,c))\n",
    "\n",
    "\n",
    "print(coffs)\n",
    "# def trim(x):\n",
    "#     if x<ex_l:x=ex_l\n",
    "#     elif x>ex_h:x=ex_h\n",
    "#     return round(x)\n",
    "\n",
    "def trim(x):\n",
    "    if x<0:x=0\n",
    "    elif x>255:x=255\n",
    "    return round(x)\n",
    "\n",
    "def cal(rd_i):\n",
    "    l=[]\n",
    "    for i in range(3):\n",
    "        cal_v=rd_i[i]*coffs[i][0]+coffs[i][1]        \n",
    "        l.append(trim(cal_v))\n",
    "    return l\n",
    "\n",
    "def delta(m1,m2):\n",
    "    _delta=[]\n",
    "    for i in range(3):   \n",
    "        _delta.append(m1[i]-m2[i])    \n",
    "    return _delta\n"
   ]
  },
  {
   "cell_type": "code",
   "execution_count": 6,
   "metadata": {},
   "outputs": [
    {
     "output_type": "stream",
     "name": "stdout",
     "text": [
      "[255   0   0] [255, 0, 0] [0, 0, 0]\n[  0 255   0] [0, 255, 0] [0, 0, 0]\n[  0   0 255] [0, 0, 255] [0, 0, 0]\n[0 0 0] [0, 0, 0] [0, 0, 0]\n[255 255 255] [255, 255, 255] [0, 0, 0]\n"
     ]
    }
   ],
   "source": [
    "\n",
    "for i in range(len(rd)):\n",
    "    cal_v=cal(rd[i])\n",
    "    print(ex[i],cal_v,delta(ex[i],cal_v))"
   ]
  },
  {
   "cell_type": "code",
   "execution_count": 8,
   "metadata": {},
   "outputs": [
    {
     "output_type": "stream",
     "name": "stdout",
     "text": [
      "[[579 113 111]\n [506 111 103]\n [414 104  98]\n [354  93  92]\n [658 180 108]\n [590 149 100]\n [513 130  97]\n [430 115 100]\n [357 105  92]\n [661 326 121]\n [623 293 118]\n [528 220 104]\n [420 152  95]\n [333 115  90]\n [367 223 120]\n [360 212 116]\n [341 178 112]\n [310 124 101]\n [297 138 186]\n [295 127 153]\n [294 112 122]\n [293 103 101]\n [325 129 182]\n [323 120 164]\n [304 110 128]\n [302 106 112]\n [308 104 104]\n [401 136 189]\n [390 133 189]\n [351 119 176]\n [321 117 145]\n [305 104 104]\n [611 286 262]\n [528 216 194]\n [414 144 129]\n [334 109 100]]\n[204   0   0] [176, 0, 0] [28, 0, 0]\n[153   0   0] [106, 0, 0] [47, 0, 0]\n[102   0   0] [16, 0, 0] [86, 0, 0]\n[51  0  0] [0, 0, 0] [51, 0, 0]\n[255 127   0] [253, 65, 0] [2, 62, 0]\n[204 102   0] [187, 0, 0] [17, 102, 0]\n[153  77   0] [112, 0, 0] [41, 77, 0]\n[102  52   0] [32, 0, 0] [70, 52, 0]\n[51 27  0] [0, 0, 0] [51, 27, 0]\n[255 255   0] [255, 255, 0] [0, 0, 0]\n[204 204   0] [219, 255, 0] [-15, -51, 0]\n[153 153   0] [127, 201, 0] [26, -48, 0]\n[102 102   0] [22, 0, 0] [80, 102, 0]\n[51 51  0] [0, 0, 0] [51, 51, 0]\n[  0 204   0] [0, 211, 0] [0, -7, 0]\n[  0 153   0] [0, 173, 0] [0, -20, 0]\n[  0 102   0] [0, 58, 0] [0, 44, 0]\n[ 0 51  0] [0, 0, 0] [0, 51, 0]\n[  0   0 204] [0, 0, 174] [0, 0, 30]\n[  0   0 153] [0, 0, 78] [0, 0, 75]\n[  0   0 102] [0, 0, 0] [0, 0, 102]\n[ 0  0 51] [0, 0, 0] [0, 0, 51]\n[ 75   0 130] [0, 0, 162] [75, 0, -32]\n[ 60   0 104] [0, 0, 110] [60, 0, -6]\n[45  0 78] [0, 0, 6] [45, 0, 72]\n[30  0 52] [0, 0, 0] [30, 0, 52]\n[15  0 26] [0, 0, 0] [15, 0, 26]\n[148   0 211] [4, 0, 183] [144, 0, 28]\n[118   0 169] [0, 0, 183] [118, 0, -14]\n[ 88   0 127] [0, 0, 145] [88, 0, -18]\n[58  0 85] [0, 0, 55] [58, 0, 30]\n[28  0 43] [0, 0, 0] [28, 0, 43]\n[204 204 204] [207, 255, 255] [-3, -51, -51]\n[153 153 153] [127, 187, 197] [26, -34, -44]\n[102 102 102] [16, 0, 9] [86, 102, 93]\n[51 51 51] [0, 0, 0] [51, 51, 51]\n"
     ]
    }
   ],
   "source": [
    "ex_o=np.array([tuple(map(int,line.split('\\n')[0].split(','))) for line in test_data])\n",
    "rd_i=np.array([tuple(map(int,line.split('\\n')[1].split(','))) for line in test_data])\n",
    "\n",
    "print(rd_i)\n",
    "\n",
    "\n",
    "for i in range(len(rd_i)):\n",
    "    cal_v=cal(rd_i[i])\n",
    "    print(ex_o[i],cal_v,delta(ex_o[i],cal_v))\n"
   ]
  }
 ]
}