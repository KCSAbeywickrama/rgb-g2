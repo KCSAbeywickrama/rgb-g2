{
 "metadata": {
  "language_info": {
   "codemirror_mode": {
    "name": "ipython",
    "version": 3
   },
   "file_extension": ".py",
   "mimetype": "text/x-python",
   "name": "python",
   "nbconvert_exporter": "python",
   "pygments_lexer": "ipython3",
   "version": "3.9.1"
  },
  "orig_nbformat": 2,
  "kernelspec": {
   "name": "python391jvsc74a57bd0bd4c67ef142469da7dc4d338a32ac40116904d26076b8e6aa587d80720bc6a2b",
   "display_name": "Python 3.9.1 64-bit"
  }
 },
 "nbformat": 4,
 "nbformat_minor": 2,
 "cells": [
  {
   "cell_type": "code",
   "execution_count": 3,
   "metadata": {},
   "outputs": [],
   "source": [
    "import numpy as np\n",
    "\n",
    "with open(\"..\\data\\stage2\\calibset2.txt\") as fl:\n",
    "    calib_data=fl.read().split('\\n\\n')"
   ]
  },
  {
   "cell_type": "code",
   "execution_count": 4,
   "metadata": {},
   "outputs": [
    {
     "output_type": "stream",
     "name": "stdout",
     "text": [
      "[[204   0   0]\n [  0 204   0]\n [  0   0 204]\n [204 204 204]]\n\n[[579 113 111]\n [367 223 120]\n [297 138 186]\n [611 286 262]]\n"
     ]
    }
   ],
   "source": [
    "R,G,B,K,W=calib_data\n",
    "sel_calib_data=R,G,B,W\n",
    "ex=np.array([tuple(map(int,line.split('\\n')[0].split(','))) for line in sel_calib_data])\n",
    "rd=np.array([tuple(map(int,line.split('\\n')[1].split(','))) for line in sel_calib_data])\n",
    "\n",
    "\n",
    "print(ex)\n",
    "print()\n",
    "print(rd)\n",
    "\n",
    "for row in rd:\n",
    "    row.\n"
   ]
  }
 ]
}