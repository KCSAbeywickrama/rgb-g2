{
 "cells": [
  {
   "cell_type": "code",
   "execution_count": 2,
   "metadata": {},
   "outputs": [
    {
     "name": "stdout",
     "output_type": "stream",
     "text": [
      "\\hline\n",
      "1 & 255,0,0 & 255,0,0 & 0,0,0 \\\\ \n",
      "\\hline\n",
      "2 & 0,255,0 & 0,255,0 & 0,0,0 \\\\ \n",
      "\\hline\n",
      "3 & 0,0,255 & 0,0,255 & 0,0,0 \\\\ \n",
      "\\hline\n",
      "4 & 255,255,255 & 255,255,255 & 0,0,0 \\\\ \n",
      "\\hline\n",
      "5 & 0,0,0 & 0,0,0 & 0,0,0 \\\\ \n",
      "\\hline\n",
      "6 & 255,255,0 & 255,255,0 & 0,0,0 \\\\ \n",
      "\\hline\n",
      "7 & 0,127,255 & 0,118,255 & 0,9,0 \\\\ \n",
      "\\hline\n",
      "8 & 0,255,255 & 0,219,255 & 0,36,0 \\\\ \n",
      "\\hline\n",
      "9 & 127,127,127 & 77,103,129 & 50,24,2 \\\\ \n",
      "\\hline\n",
      "10 & 50,150,220 & 0,166,255 & 50,16,35 \\\\ \n"
     ]
    }
   ],
   "source": [
    "codes = [\r\n",
    "    [[255, 0, 0], [255, 0, 0]],#1\r\n",
    "    [[0, 255, 0], [0, 255, 0]],\r\n",
    "    [[0, 0, 255], [0, 0, 255]],#3\r\n",
    "    [[255, 255, 255], [255, 255, 255]],\r\n",
    "    [[0,0,0], [0,0,0]],\r\n",
    "    [[255, 255, 0], [255, 255, 0]],\r\n",
    "    [[0, 127, 255], [0, 118, 255]],#7\r\n",
    "    [[0, 255, 255], [0, 219, 255]],  # raw2\r\n",
    "\r\n",
    "    [[127, 127, 127], [77, 103, 129]],#9\r\n",
    "    [[50, 150, 220], [0, 166, 255]]\r\n",
    "\r\n",
    "    # [[255, 0, 255], [228, 0, 158]]#raw2\r\n",
    "\r\n",
    "]\r\n",
    "\r\n",
    "\r\n",
    "def err(pair):\r\n",
    "    r = []\r\n",
    "    for i in range(3):\r\n",
    "        r.append(abs(pair[0][i]-pair[1][i]))\r\n",
    "    return r\r\n",
    "\r\n",
    "def print_trip(trip):\r\n",
    "    print(*trip,sep=',',end='')\r\n",
    "\r\n",
    "for i in range(len(codes)):\r\n",
    "    print('\\hline')\r\n",
    "    print(i+1,end=' & ')\r\n",
    "    print_trip(codes[i][0]);print(end=' & ')\r\n",
    "    print_trip(codes[i][1]);print(end=' & ')\r\n",
    "    print_trip(err(codes[i]));print(end=' \\\\\\\\ ')\r\n",
    "    print()\r\n"
   ]
  }
 ],
 "metadata": {
  "kernelspec": {
   "display_name": "Python 3.9.1 64-bit",
   "name": "python391jvsc74a57bd0bd4c67ef142469da7dc4d338a32ac40116904d26076b8e6aa587d80720bc6a2b"
  },
  "language_info": {
   "codemirror_mode": {
    "name": "ipython",
    "version": 3
   },
   "file_extension": ".py",
   "mimetype": "text/x-python",
   "name": "python",
   "nbconvert_exporter": "python",
   "pygments_lexer": "ipython3",
   "version": "3.9.1"
  },
  "orig_nbformat": 2
 },
 "nbformat": 4,
 "nbformat_minor": 2
}